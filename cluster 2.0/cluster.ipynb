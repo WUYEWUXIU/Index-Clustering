{
 "cells": [
  {
   "cell_type": "code",
   "execution_count": 1,
   "id": "b950b60b",
   "metadata": {},
   "outputs": [],
   "source": [
    "import pandas as pd\n",
    "import numpy as np\n",
    "\n",
    "def scale(series):\n",
    "    return (series - series.min())/(series.max()-series.min())\n",
    "\n",
    "reference = pd.read_excel('指数表（唯一）.xlsx')\n",
    "reference.set_index('跟踪指数代码',inplace=True)\n",
    "\n",
    "close = pd.read_excel('close_price.xlsx')\n",
    "Close = close.set_index('TDATE')\n",
    "Return = Close / Close.shift(1) - 1"
   ]
  },
  {
   "cell_type": "markdown",
   "id": "d0dbffdd",
   "metadata": {},
   "source": [
    "# Hierarchy"
   ]
  },
  {
   "cell_type": "code",
   "execution_count": 26,
   "id": "0d858d8d",
   "metadata": {},
   "outputs": [],
   "source": [
    "from scipy.cluster.hierarchy import *\n",
    "from scipy.cluster.vq import *\n",
    "import matplotlib.pyplot as plt\n",
    "import warnings\n",
    "np.set_printoptions(suppress=True)\n",
    "warnings.filterwarnings(\"ignore\")\n",
    "pd.set_option('display.max_rows',None)\n",
    "plt.rcParams['font.sans-serif']=['SimHei']\n",
    "\n",
    "\n",
    "sts = np.arange(2015,2021)\n",
    "path = '.\\Hierarchy\\Hierarchy_stats.xlsx'\n",
    "writer = pd.ExcelWriter(path)\n",
    "\n",
    "for k in np.arange(2,20):\n",
    "    stats = pd.DataFrame()\n",
    "    for i,start_date in enumerate(sts):\n",
    "        Return_cut = Return.loc[str(start_date):,:]\n",
    "        temp = Return_cut.dropna(axis=1,thresh=(252*(2020-start_date)))\n",
    "        temp = temp.dropna(axis=0,how='any')\n",
    "        temp_copy = temp.copy()\n",
    "        temp_scaled = temp_copy.apply(scale)\n",
    "        temp_scaled_transposed = pd.DataFrame(temp_scaled.values.T,index=temp_scaled.columns,columns=temp_scaled.index)\n",
    "        Z = linkage(temp_scaled_transposed,  method='ward', metric='euclidean',optimal_ordering=True)\n",
    "        labels_2 = fcluster(Z, t=k, criterion='maxclust')\n",
    "        industry = temp_scaled.columns\n",
    "        belongs = pd.DataFrame(labels_2,columns=[start_date],index=[reference.loc[industry,'跟踪指数名称'],reference.loc[industry,'资产类型']])\n",
    "        if i == 0:\n",
    "            stats = belongs\n",
    "        else:\n",
    "            stats = pd.concat([stats,belongs],axis=1)\n",
    "        # plt.figure(figsize=(60, 20))\n",
    "        # dendrogram(Z, truncate_mode='level', p=15, show_leaf_counts=True, leaf_rotation=90, leaf_font_size=15,show_contracted=True,labels=reference.loc[temp_scaled.columns.values,'跟踪指数名称'].values)\n",
    "        # plt.show()\n",
    "    #     path = '.\\Hierarchy\\Hierarchy-' + str(start_date) + '.jpg'\n",
    "    #     plt.savefig(path)\n",
    "    stats.to_excel(writer, sheet_name=str(k)+'clusters')\n",
    "writer.save()"
   ]
  },
  {
   "cell_type": "markdown",
   "id": "369d356e",
   "metadata": {},
   "source": [
    "# Kmeans"
   ]
  },
  {
   "cell_type": "code",
   "execution_count": 3,
   "id": "97f3a2c4",
   "metadata": {},
   "outputs": [],
   "source": [
    "from scipy.cluster.hierarchy import *\n",
    "from scipy.cluster.vq import *\n",
    "import matplotlib.pyplot as plt\n",
    "import warnings\n",
    "np.set_printoptions(suppress=True)\n",
    "warnings.filterwarnings(\"ignore\")\n",
    "pd.set_option('display.max_rows',None)\n",
    "plt.rcParams['font.sans-serif']=['SimHei']\n",
    "\n",
    "sts = np.arange(2015,2021)\n",
    "belongs = pd.DataFrame()\n",
    "\n",
    "for i,start_date in enumerate(sts):\n",
    "    Return_cut = Return.loc[str(start_date):,:]\n",
    "    temp = Return_cut.dropna(axis=1,thresh=(252*(2020-start_date)))\n",
    "    temp = temp.dropna(axis=0,how='any')\n",
    "    temp_copy = temp.copy()\n",
    "    temp_scaled = temp_copy.apply(scale)\n",
    "    temp_scaled_transposed = pd.DataFrame(temp_scaled.values.T,index=temp_scaled.columns,columns=temp_scaled.index)\n",
    "    temp_scaled_transposed_whitened = whiten(temp_scaled_transposed)\n",
    "    codebook = kmeans(temp_scaled_transposed_whitened,19,True)\n",
    "    clusters = vq(temp_scaled_transposed_whitened,codebook[0])\n",
    "    belongs.loc[str(start_date),temp_scaled.columns] = clusters[0]\n",
    "\n",
    "belongs.columns = [reference.loc[belongs.columns,'跟踪指数名称'].values,reference.loc[belongs.columns,'资产类型'].values]\n",
    "belongs_transposed = pd.DataFrame(belongs.values.T,index=belongs.columns,columns=belongs.index)\n",
    "belongs_transposed.to_excel('.\\Kmeans\\Kmeans.xlsx')\n",
    "\n"
   ]
  },
  {
   "cell_type": "code",
   "execution_count": null,
   "id": "41ca554c",
   "metadata": {},
   "outputs": [],
   "source": []
  }
 ],
 "metadata": {
  "kernelspec": {
   "display_name": "Python 3",
   "language": "python",
   "name": "python3"
  },
  "language_info": {
   "codemirror_mode": {
    "name": "ipython",
    "version": 3
   },
   "file_extension": ".py",
   "mimetype": "text/x-python",
   "name": "python",
   "nbconvert_exporter": "python",
   "pygments_lexer": "ipython3",
   "version": "3.8.8"
  }
 },
 "nbformat": 4,
 "nbformat_minor": 5
}
